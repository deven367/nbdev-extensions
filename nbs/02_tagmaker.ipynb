{
 "cells": [
  {
   "cell_type": "code",
   "execution_count": null,
   "id": "1f17fb0c-414e-4e23-b54c-597a44e620ba",
   "metadata": {},
   "outputs": [],
   "source": [
    "#| default_exp tagmaker"
   ]
  },
  {
   "cell_type": "markdown",
   "id": "bac27fca",
   "metadata": {},
   "source": [
    "# Tag Maker\n",
    "> Processor to quickly write ::: tags as comments"
   ]
  },
  {
   "cell_type": "markdown",
   "id": "76ed79ac-0f60-46b9-ade0-667e21c8edef",
   "metadata": {},
   "source": [
    "## Inspiration\n",
    "\n",
    "As I was writing my new course, I found that having to do two sets of `:::` and something to put in between two `{}` annoying, so this is a quick processor to do that for me as a tag"
   ]
  },
  {
   "cell_type": "code",
   "execution_count": null,
   "id": "b20b5cab-502f-4717-9e69-695e7e645b63",
   "metadata": {},
   "outputs": [],
   "source": [
    "#| export\n",
    "from nbdev.config import get_config\n",
    "from nbdev.process import extract_directives\n",
    "from nbdev.processors import Processor\n",
    "from nbdev.export import nb_export\n",
    "from nbdev.doclinks import nbglob\n",
    "from nbdev.sync import write_nb\n",
    "\n",
    "from fastcore.script import call_parse\n",
    "from fastcore.xtras import Path\n",
    "\n",
    "from string import Template"
   ]
  },
  {
   "cell_type": "code",
   "execution_count": null,
   "id": "a01d6a1a-4a33-49bf-bd71-d01c7c2885c6",
   "metadata": {},
   "outputs": [],
   "source": [
    "#| hide\n",
    "from fastcore.test import test_eq"
   ]
  },
  {
   "cell_type": "code",
   "execution_count": null,
   "id": "666b941f-2886-41e0-9349-8163cb01f704",
   "metadata": {},
   "outputs": [],
   "source": [
    "#| export\n",
    "_LAYOUT_STR = Template(\"::: {$layout}\\n$content\\n\")"
   ]
  },
  {
   "cell_type": "code",
   "execution_count": null,
   "id": "0c421816-466e-44fd-a326-6e90898b48eb",
   "metadata": {},
   "outputs": [],
   "source": [
    "#| export\n",
    "def convert_layout(cell, layout):\n",
    "    \"Parses cell formatted with ::: {$something}, and potentially :::\"\n",
    "    layout_format = layout[0]\n",
    "    content = cell.source\n",
    "    cell.source = _LAYOUT_STR.substitute(\n",
    "        layout=layout,\n",
    "        content=content\n",
    "    )"
   ]
  },
  {
   "cell_type": "code",
   "execution_count": null,
   "id": "69a04e61-1259-4bbc-bac5-90ac3f011196",
   "metadata": {},
   "outputs": [],
   "source": [
    "#| hide\n",
    "from nbdev.processors import mk_cell, read_nb"
   ]
  },
  {
   "cell_type": "code",
   "execution_count": null,
   "id": "e7547846-2c4e-4887-9006-eaa89c6d49ed",
   "metadata": {},
   "outputs": [],
   "source": [
    "#| hide\n",
    "cell = mk_cell(\"\"\"#| layout .column-margin\n",
    "A test\"\"\", \"markdown\")\n",
    "cell.directives_ = extract_directives(cell, \"#\")\n",
    "convert_layout(cell, cell.directives_[\"layout\"][0])\n",
    "test_eq(cell.source, \"\"\"::: {.column-margin}\n",
    "A test\n",
    "\"\"\")"
   ]
  },
  {
   "cell_type": "code",
   "execution_count": null,
   "id": "8ae5d4eb-d63e-4cd1-a86d-f159e1fbd108",
   "metadata": {},
   "outputs": [],
   "source": [
    "#| export\n",
    "class LayoutProc(Processor):\n",
    "    \"\"\"A proc that will automatically change #| layout format\n",
    "    to ::: {format} ... :::\n",
    "    \"\"\"\n",
    "    has_partial = False\n",
    "    def cell(self, cell):\n",
    "        if cell.cell_type == \"markdown\" and \"layout\" in cell.directives_:\n",
    "            directives_ = cell.directives_[\"layout\"]\n",
    "            if self.has_partial and \"end\" in directives_:\n",
    "                    cell.source = \":::\"\n",
    "                    self.has_partial = False\n",
    "            else:\n",
    "                convert_layout(cell, directives_[0])\n",
    "                if \"start\" in directives_:\n",
    "                    self.has_partial = True\n",
    "                else:\n",
    "                    cell.source += \":::\""
   ]
  },
  {
   "cell_type": "code",
   "execution_count": null,
   "id": "d61f048c-8d72-4705-be71-17c58ef00d8a",
   "metadata": {},
   "outputs": [],
   "source": [
    "#| hide\n",
    "from nbdev.process import NBProcessor, dict2nb"
   ]
  },
  {
   "cell_type": "code",
   "execution_count": null,
   "id": "67de4ad9-2057-47a3-b829-dc6672e3f46b",
   "metadata": {},
   "outputs": [],
   "source": [
    "#| hide\n",
    "nb = {\"cells\":[\n",
    "    mk_cell(\"\"\"#| layout .column-margin\n",
    "A test\"\"\", \"markdown\"),\n",
    "    mk_cell(\"\"\"#| layout .column-margin start\n",
    "A test\"\"\", \"markdown\"),\n",
    "    mk_cell(\"#| layout end\", \"markdown\")\n",
    "]}\n",
    "processor = NBProcessor(procs=LayoutProc, nb=dict2nb(nb))\n",
    "processor.process()\n",
    "test_eq(processor.nb.cells[0].source, \"::: {.column-margin}\\nA test\\n:::\")\n",
    "test_eq(processor.nb.cells[1].source, \"::: {.column-margin}\\nA test\\n\")\n",
    "test_eq(processor.nb.cells[2].source, \":::\")"
   ]
  },
  {
   "cell_type": "markdown",
   "id": "d45303d7-59e9-462f-bb3c-c55cf5b68c9b",
   "metadata": {},
   "source": [
    "An example usage of this proc is writing something such as (just the content):"
   ]
  },
  {
   "cell_type": "code",
   "execution_count": null,
   "id": "d90e5691-bc3d-4824-9b82-cda0abb93905",
   "metadata": {},
   "outputs": [],
   "source": [
    "\"\"\"\n",
    "#| layout .column-margin\n",
    "Some test stuff!\n",
    "\"\"\";"
   ]
  },
  {
   "cell_type": "markdown",
   "id": "77034738-4626-4294-8bf5-582e428437cf",
   "metadata": {},
   "source": [
    "In a markdown cell and then running the processor"
   ]
  },
  {
   "cell_type": "markdown",
   "id": "7fd0651d-2d1c-4d41-a3b0-beb2be8f293a",
   "metadata": {},
   "source": [
    "#| layout .column-margin\n",
    "Some test stuff!"
   ]
  },
  {
   "cell_type": "markdown",
   "id": "6c0c8271-837b-4f89-82aa-71c0ee509cb0",
   "metadata": {},
   "source": [
    "Or you can split it up into multiple cells by dictating `start` and `end`:"
   ]
  },
  {
   "cell_type": "code",
   "execution_count": null,
   "id": "8c14fcf1-d45f-4eab-aafa-09b49bcd5695",
   "metadata": {},
   "outputs": [],
   "source": [
    "\"\"\"\n",
    "#| layout .column-margin start\n",
    "Some test stuff!\n",
    "\"\"\";"
   ]
  },
  {
   "cell_type": "code",
   "execution_count": null,
   "id": "e717d661-60df-4281-88cb-a5e066fea68c",
   "metadata": {},
   "outputs": [],
   "source": [
    "\"\"\"\n",
    "#| layout end\n",
    "\"\"\";"
   ]
  },
  {
   "cell_type": "markdown",
   "id": "65fa3a75-4a57-4fc6-b0aa-896e1c110f4f",
   "metadata": {},
   "source": [
    "#| layout .column-margin start\n",
    "Some test stuff!"
   ]
  },
  {
   "cell_type": "markdown",
   "id": "63b0788e-fad1-4f8b-89ba-cf3175e13e09",
   "metadata": {},
   "source": [
    "#| layout .column-margin end"
   ]
  }
 ],
 "metadata": {
  "kernelspec": {
   "display_name": "Python 3 (ipykernel)",
   "language": "python",
   "name": "python3"
  }
 },
 "nbformat": 4,
 "nbformat_minor": 5
}
