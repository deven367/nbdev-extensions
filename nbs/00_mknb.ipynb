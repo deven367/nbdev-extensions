{
 "cells": [
  {
   "cell_type": "markdown",
   "metadata": {},
   "source": [
    "# mknb\n",
    "\n",
    "> Quickly builds template notebooks to use"
   ]
  },
  {
   "cell_type": "code",
   "execution_count": 1,
   "metadata": {},
   "outputs": [],
   "source": [
    "#| default_exp mknb"
   ]
  },
  {
   "cell_type": "code",
   "execution_count": 2,
   "metadata": {},
   "outputs": [],
   "source": [
    "#| hide\n",
    "from nbdev.showdoc import *"
   ]
  },
  {
   "cell_type": "code",
   "execution_count": 36,
   "metadata": {},
   "outputs": [],
   "source": [
    "#| export\n",
    "import re\n",
    "from string import Template\n",
    "\n",
    "from nbdev.config import get_config\n",
    "from nbdev.sync import write_nb, mk_cell\n",
    "from nbdev.doclinks import nbglob\n",
    "\n",
    "from fastcore.xtras import Path\n",
    "\n",
    "from fastcore.foundation import AttrDict, L\n",
    "from fastcore.script import call_parse"
   ]
  },
  {
   "cell_type": "code",
   "execution_count": 37,
   "metadata": {},
   "outputs": [],
   "source": [
    "#| export\n",
    "_default_exp = Template(\"#| default_exp $export\")\n",
    "_title = Template(\"# $title\\n\")\n",
    "_description = Template(\"> $description\")\n",
    "_export = \"#| hide\\nimport nbdev; nbdev.nbdev_export()\""
   ]
  },
  {
   "cell_type": "code",
   "execution_count": 80,
   "metadata": {},
   "outputs": [],
   "source": [
    "#| export\n",
    "def _mk_nb(title,desc,exp=None):\n",
    "    nb = AttrDict(\n",
    "        cells=L(),\n",
    "        metadata={},\n",
    "        nbformat=4,\n",
    "        nbformat_minor=5\n",
    "    )\n",
    "    if exp is not None: \n",
    "        nb.cells.append(mk_cell(exp))\n",
    "    nb.cells.append(mk_cell(title+desc, \"markdown\"))\n",
    "    nb.cells.append(mk_cell(\"\"))\n",
    "    if exp is not None:\n",
    "        nb.cells.append(mk_cell(_export))\n",
    "    nb.cells = list(nb.cells)\n",
    "    # return dict(nb)\n",
    "    return nb"
   ]
  },
  {
   "cell_type": "code",
   "execution_count": 84,
   "metadata": {},
   "outputs": [],
   "source": [
    "#| export\n",
    "@call_parse\n",
    "def new_nb(\n",
    "    name:str, # The name of the newly created notebook\n",
    "    module:str = None, # The name of the exported module it will generate\n",
    "    title:str = None, # The title header in the notebook\n",
    "    description:str = None, # The description that will go under the title header\n",
    "    nprefix:int = None, # if > 0, will be the first number in the filename\n",
    "    nsuffix:int = None, # If > 0, will be the second number in the filename\n",
    "):\n",
    "    \"Creates a new base nbdev notebook named {nprefix}{nsuffix}_{name}.ipynb\"\n",
    "    cfg = get_config()\n",
    "    nbs = nbglob(\n",
    "        cfg.nbs_path,\n",
    "        file_glob=\"*.ipynb\",\n",
    "        file_re=\"^[0-9]\",\n",
    "        skip_folder_re=\"^[_.]\"\n",
    "    )\n",
    "    nbs = nbs.map(\n",
    "        lambda x: Path(x).name.replace(\".ipynb\",\"\")\n",
    "    )\n",
    "    nbs.sort()\n",
    "    title = _title.substitute(title=title or \"No Title\")\n",
    "    descrip = _description.substitute(description=description or \"Fill me in!\")\n",
    "    if module is not None:\n",
    "        module = _default_exp.substitute(export=module)\n",
    "    if len(nbs) > 0:\n",
    "        nums = nbs.map(\n",
    "            lambda x: list(re.search(\"^[0-9][0-9]?\", x).group(0))\n",
    "        ).map(lambda x: list(map(int, x)))\n",
    "        if nprefix is None:\n",
    "            nprefix = max(o[0] for o in nums)\n",
    "        if nsuffix is None:\n",
    "            nsuffix = max(o[1] for o in nums)\n",
    "    else:\n",
    "        nprefix, nsuffix = 0,0\n",
    "    nsuffix += 1\n",
    "    nbpath = cfg.nbs_path/f'{nprefix}{nsuffix}_{name}.ipynb'\n",
    "    write_nb(_mk_nb(title, descrip, module), nbpath)"
   ]
  },
  {
   "cell_type": "code",
   "execution_count": 85,
   "metadata": {},
   "outputs": [],
   "source": [
    "#| hide\n",
    "import nbdev; nbdev.nbdev_export()"
   ]
  },
  {
   "cell_type": "code",
   "execution_count": null,
   "metadata": {},
   "outputs": [],
   "source": []
  }
 ],
 "metadata": {
  "kernelspec": {
   "display_name": "Python 3 (ipykernel)",
   "language": "python",
   "name": "python3"
  },
  "language_info": {
   "codemirror_mode": {
    "name": "ipython",
    "version": 3
   },
   "file_extension": ".py",
   "mimetype": "text/x-python",
   "name": "python",
   "nbconvert_exporter": "python",
   "pygments_lexer": "ipython3",
   "version": "3.9.13"
  }
 },
 "nbformat": 4,
 "nbformat_minor": 4
}
