{
 "cells": [
  {
   "cell_type": "code",
   "execution_count": null,
   "metadata": {},
   "outputs": [],
   "source": [
    "#| hide\n",
    "from nbdev_extensions.mknb import new_nb"
   ]
  },
  {
   "cell_type": "markdown",
   "metadata": {},
   "source": [
    "# nbdev-extensions\n",
    "\n",
    "> A collection of useful extensions for nbdev I've thought of"
   ]
  },
  {
   "cell_type": "markdown",
   "metadata": {},
   "source": [
    "These extensions will have niche use cases in some places, however these are ones where I find a benefit in having them at least once. Also known as, cool ideas myself or others have considered with nbdev brought to life"
   ]
  },
  {
   "cell_type": "markdown",
   "metadata": {},
   "source": [
    "## Install"
   ]
  },
  {
   "cell_type": "markdown",
   "metadata": {},
   "source": [
    "```sh\n",
    "pip install nbdev-extensions\n",
    "```"
   ]
  },
  {
   "cell_type": "markdown",
   "metadata": {},
   "source": [
    "## How to use"
   ]
  },
  {
   "cell_type": "markdown",
   "metadata": {},
   "source": [
    "`nbdev-extensions` currently has the following features:\n",
    "\n",
    "- `new_nb` - A CLI/functional interface to quickly generate blank template notebooks for nbdev development with all of the necessary boilerplate cells prefilled based on the passed parameters.\n",
    "\n",
    "- [Code Notes](/codenotes) - A note-taking annotation tool utilizing nbdev to write quick comments and explanations for sections of code in a code cell without cluttering the code cell with comments. These show up as panels in the rendered documentation, one with just the source code and the other with the source and an explanation"
   ]
  },
  {
   "cell_type": "code",
   "execution_count": null,
   "metadata": {},
   "outputs": [],
   "source": []
  }
 ],
 "metadata": {
  "kernelspec": {
   "display_name": "Python 3 (ipykernel)",
   "language": "python",
   "name": "python3"
  }
 },
 "nbformat": 4,
 "nbformat_minor": 4
}
