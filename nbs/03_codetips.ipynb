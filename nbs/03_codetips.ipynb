{
 "cells": [
  {
   "cell_type": "code",
   "execution_count": null,
   "id": "39701488",
   "metadata": {},
   "outputs": [],
   "source": [
    "#| default_exp codetips"
   ]
  },
  {
   "cell_type": "markdown",
   "id": "c771cd07",
   "metadata": {},
   "source": [
    "# Code Tips\n",
    "> Pipeline for annotating code cells with notes"
   ]
  },
  {
   "cell_type": "markdown",
   "id": "eb612eb2-1c5c-4714-a171-a780a4dbf4b1",
   "metadata": {},
   "source": [
    "Code Tips operate the same way as Code Notes however they show up as tooltips instead and use the `tip` tag instead of the `explain`. Note that it also uses multiline CodeNotes by default so you need a start and an end. \n",
    "\n",
    "To use this make sure that you add in `hint.css` and `tips.css` to the `_quarto.yml` under the `css` section!"
   ]
  },
  {
   "cell_type": "code",
   "execution_count": null,
   "id": "bc07ae91-34e2-48c4-8f60-0ca5fccdc28e",
   "metadata": {},
   "outputs": [],
   "source": [
    "#| export\n",
    "from nbdev.config import get_config\n",
    "from nbdev.process import NBProcessor, extract_directives\n",
    "from nbdev.processors import Processor, mk_cell\n",
    "from nbdev.export import nb_export\n",
    "from nbdev.doclinks import nbglob\n",
    "from nbdev.sync import write_nb\n",
    "\n",
    "from fastcore.script import call_parse\n",
    "from fastcore.xtras import Path\n",
    "\n",
    "import shlex\n",
    "import requests\n",
    "import re"
   ]
  },
  {
   "cell_type": "code",
   "execution_count": null,
   "id": "323294dd-94d1-45c0-bd51-b40fcd50a6bd",
   "metadata": {},
   "outputs": [],
   "source": [
    "from fastcore.test import test_eq"
   ]
  },
  {
   "cell_type": "code",
   "execution_count": null,
   "id": "3a2e2ef7-8a64-41f7-b66d-023240b4d4bf",
   "metadata": {},
   "outputs": [],
   "source": [
    "#| export\n",
    "HINT_CSS_URL = \"https://raw.githubusercontent.com/muellerzr/til/master/nbs/hint.css\""
   ]
  },
  {
   "cell_type": "code",
   "execution_count": null,
   "id": "97f623be-450b-4026-89f8-478444abcf5c",
   "metadata": {},
   "outputs": [],
   "source": [
    "#| export\n",
    "TIPS_CSS = \"\"\".nogap {\n",
    "    padding: 0px;\n",
    "    border-radius: 0px !important;\n",
    "    outline: 0px 0px;\n",
    "    margin-bottom: 0px !important;\n",
    "}\n",
    "\n",
    ".code-with-filename .code-with-filename-file {\n",
    "    margin: 0px;\n",
    "}\n",
    "div.sourceCode {\n",
    "    border: 0px;\n",
    "    margin: 0px;\n",
    "}\n",
    "\n",
    "pre > code.sourceCode {\n",
    "    white-space: pre;\n",
    "    text-decoration: none;\n",
    "}\n",
    "\n",
    ".nogap > div.sourceCode > pre.sourceCode {\n",
    "    line-height: 0px;\n",
    "    padding-bottom: 0px;\n",
    "    padding-top: 0px;\n",
    "    margin-bottom: 0px;\n",
    "    margin-top: 0px;\n",
    "}\"\"\""
   ]
  },
  {
   "cell_type": "code",
   "execution_count": null,
   "id": "97171693-25e6-45b5-999d-7134505b16e2",
   "metadata": {},
   "outputs": [],
   "source": [
    "#| export\n",
    "def download_tooltip_css():\n",
    "    config = get_config()\n",
    "    css_path = config.nbs_path/\"hint.css\"\n",
    "    if not css_path.exists():\n",
    "        response = requests.get(HTML_CSS_URL)\n",
    "        css_path.write_bytes(response.content)\n",
    "        (config.nbs_path/\"codetips.css\").write_text(TIPS_CSS)\n",
    "        print(f'Added custom css files. Please add `codetips.css` and `hint.css` to `_quarto.yml` under `format -> html -> css`')"
   ]
  },
  {
   "cell_type": "code",
   "execution_count": null,
   "id": "e02dc8db-8cc4-4b8c-a2e4-59613505da0f",
   "metadata": {},
   "outputs": [],
   "source": [
    "#| export\n",
    "def write_tooltip_directives(\n",
    "    # The tooltip text\n",
    "    explanation: str,\n",
    "    # A list of css directives to modify the tooltip\n",
    "    hint_directives:list = [\"rounded\", \"medium\", \"right\"],\n",
    "    # An optional filename to be rendered \n",
    "    filename:str = None,\n",
    "):\n",
    "    \"Creates a tooltip in style of `hint_directives` with content `explanation`\"\n",
    "    hint_directives = [f\".hint--{hint} \" for hint in hint_directives]\n",
    "    hint_directives[-1] = hint_directives[-1].rstrip() # for formatting\n",
    "    tooltip = f'''#| classes: .nogap {\"\".join(hint_directives)}\n",
    "#| aria-label: \"{explanation}\"'''\n",
    "    if filename is not None:\n",
    "        tooltip += f'\\n#| filename: \"{filename}\"'\n",
    "    return tooltip + \"\\n\""
   ]
  },
  {
   "cell_type": "code",
   "execution_count": null,
   "id": "da079b58-605f-457c-9c15-2901c3680363",
   "metadata": {},
   "outputs": [],
   "source": [
    "test_eq(write_tooltip_directives(\"Some content\"), '''#| classes: .nogap .hint--rounded .hint--medium .hint--right\n",
    "#| aria-label: \"Some content\"\n",
    "''')"
   ]
  },
  {
   "cell_type": "code",
   "execution_count": null,
   "id": "74be12b9-5af7-433c-b373-a44a6d20f54e",
   "metadata": {},
   "outputs": [],
   "source": [
    "test_eq(write_tooltip_directives(\"Some content\", filename=\"my/file/name\"), '''#| classes: .nogap .hint--rounded .hint--medium .hint--right\n",
    "#| aria-label: \"Some content\"\n",
    "#| filename: \"my/file/name\"\n",
    "''')"
   ]
  },
  {
   "cell_type": "code",
   "execution_count": null,
   "id": "3787cd73-e5a3-4b8c-8117-7d155a95c907",
   "metadata": {},
   "outputs": [],
   "source": [
    "#| export\n",
    "def convert_explanation(explanation_cell, source):\n",
    "    \"Takes an explanation and source code and linkes them together in a new cell\"\n",
    "    filename = explanation_cell.directives_.pop(\"filename\", None)\n",
    "    explanation = re.sub(r'\\*#|.*[\\n]', \"\", explanation_cell.source)\n",
    "    content = write_tooltip_directives(explanation, filename=filename)\n",
    "    content += source\n",
    "    return mk_cell(content, cell_type=\"code\")"
   ]
  },
  {
   "cell_type": "code",
   "execution_count": null,
   "id": "7152a725-4668-48f7-a6d0-e0f6b03db5a8",
   "metadata": {},
   "outputs": [],
   "source": [
    "#| export\n",
    "def extract_code(start_code, end_code, source, instance_num, end_instance_num=0):\n",
    "    \"Finds code between start and finish potentially with instances to check\"\n",
    "    start_match = list(re.finditer(f'[ \\t]*{start_code}', source))[int(instance_num)]\n",
    "    start_char = start_match.span()[0]\n",
    "    end_match = list(re.finditer(f'[ \\t]*{end_code}', source))[int(end_instance_num)]\n",
    "    end_char = end_match.span()[1]\n",
    "    return source[start_char:end_char]"
   ]
  },
  {
   "cell_type": "code",
   "execution_count": null,
   "id": "60ac3192-71b8-4893-bef8-deefbef3f406",
   "metadata": {},
   "outputs": [],
   "source": [
    "#| export\n",
    "def parse_code(code_cell, markdown_cell):\n",
    "    \"Parses directives to extract the code needed to be highlighted\"\n",
    "    directives = markdown_cell.directives_[\"tip\"]\n",
    "    directives = shlex.split(\" \".join(directives))\n",
    "    if len(directives) == 4:\n",
    "        start_code, start_instance_num, end_code, end_instance_num = directives\n",
    "    else:\n",
    "        (start_code, start_instance_num, end_code), (end_instance_num) = directives, 0\n",
    "    start_code, end_code = re.escape(start_code), re.escape(end_code)\n",
    "    return extract_code(start_code, end_code, code_cell.source, start_instance_num, end_instance_num)"
   ]
  },
  {
   "cell_type": "code",
   "execution_count": null,
   "id": "67409249-5534-49f4-b3e8-7d75e5f6a9c9",
   "metadata": {},
   "outputs": [],
   "source": [
    "#| export\n",
    "class TipExportProc(Processor):\n",
    "    \"A proc that checks and reorganizes cells for documentation for proper explainations\"\n",
    "    offset = 0\n",
    "    steps = []\n",
    "    _i = 0\n",
    "    def begin(self):\n",
    "        self.reset()\n",
    "        self.has_reset = False\n",
    "        self.iter = 0\n",
    "        self.offset = 0\n",
    "    \n",
    "    def reset(self):\n",
    "        self.results = [mk_cell(\"::: {layout-ncol=1}\", cell_type=\"markdown\")]    \n",
    "        self.code = []\n",
    "        self._code = None\n",
    "        self.found_explanation = False\n",
    "        self.end_link = False\n",
    "        self.explanations = []\n",
    "        self.start_idx = None\n",
    "        self.end_idx = None\n",
    "    \n",
    "    def cell(self, cell):\n",
    "        if cell.cell_type == \"code\":\n",
    "            if not self.found_explanation:\n",
    "                self._code = cell\n",
    "                self.start_idx = cell.idx_\n",
    "                \n",
    "        if cell.cell_type == \"markdown\" and \"tip\" in cell.directives_:\n",
    "            self.found_explanation = True\n",
    "            self.explanations.append(cell)\n",
    "            \n",
    "        if self.found_explanation:\n",
    "            idx = cell.idx_ + 1\n",
    "            if (len(self.nb.cells) <= idx+1) or (\"tip\" not in self.nb.cells[idx].directives_):\n",
    "                self.end_link = True\n",
    "                self.end_idx = cell.idx_ + 1\n",
    "        \n",
    "        if self.found_explanation and self.end_link:\n",
    "            # Assume we have all code + explainations\n",
    "            explanations = [self._code]\n",
    "            for i,explanation in enumerate(self.explanations):\n",
    "                source = parse_code(self._code, explanation)\n",
    "                converted_explanation = convert_explanation(explanation, source)\n",
    "                self.results.append(converted_explanation)\n",
    "                self.nb.cells.remove(explanation)\n",
    "            self.results.append(mk_cell(\":::\", cell_type=\"markdown\"))\n",
    "            self.nb.cells.remove(self._code)\n",
    "            self.offset = 0\n",
    "            for result in self.results:\n",
    "                result.idx_ = self.nb.cells[self.start_idx - 1].idx_ + 1\n",
    "                self.nb.cells.insert(self.start_idx + self.offset, result)\n",
    "                self.offset += 1\n",
    "            self.iter += 1\n",
    "            self.reset()\n",
    "            self.has_reset = True\n",
    "            \n",
    "            self.offset = 0\n",
    "            for i,c in enumerate(self.nb.cells): c.idx_ = i"
   ]
  },
  {
   "cell_type": "code",
   "execution_count": null,
   "id": "a471c74d-9043-42fc-897f-4a6c0c38cb31",
   "metadata": {},
   "outputs": [],
   "source": [
    "#| export\n",
    "@call_parse\n",
    "def parse_notes():\n",
    "    \"Exports notebooks to parsed notes for documentation. Should be called in the workflow, not yourself!\"\n",
    "    for nb in nbglob(get_config().nbs_path):\n",
    "        processor = NBProcessor(nb, [NoteExportProc], rm_directives=False)\n",
    "        processor.process()\n",
    "        write_nb(processor.nb, nb)"
   ]
  },
  {
   "cell_type": "code",
   "execution_count": null,
   "id": "89eee302-cc23-49c8-979d-395e3e2800f8",
   "metadata": {},
   "outputs": [],
   "source": [
    "processor = NBProcessor(\"test.ipynb\", [TipExportProc], rm_directives=False)\n",
    "processor.process()"
   ]
  },
  {
   "cell_type": "code",
   "execution_count": null,
   "id": "42b03617-fba5-4335-b0e0-66b7230f9d23",
   "metadata": {},
   "outputs": [],
   "source": [
    "write_nb(processor.nb, \"result.ipynb\")"
   ]
  },
  {
   "cell_type": "markdown",
   "id": "4eebd049-4b05-4ca9-a0c6-7a785c168166",
   "metadata": {},
   "source": [
    "To use this, add `nbdev-extensions.codetips:TipExportProc` to your `settings.ini` and add the required css files to your `_quarto.yml`"
   ]
  },
  {
   "cell_type": "markdown",
   "id": "93de89a6-7e16-4f16-a554-7ef724797f8e",
   "metadata": {},
   "source": [
    "Now it will automatically build your docs like notes!"
   ]
  },
  {
   "cell_type": "code",
   "execution_count": null,
   "id": "f8609505",
   "metadata": {},
   "outputs": [],
   "source": [
    "def addition(a,b):\n",
    "    \"Adds two numbers together\"\n",
    "    return a+b"
   ]
  },
  {
   "cell_type": "markdown",
   "id": "3bc72a9c",
   "metadata": {},
   "source": [
    "#| tip a+b\n",
    "\n",
    "We return the sum of `a` and `b`"
   ]
  },
  {
   "cell_type": "markdown",
   "id": "f11ea369-0207-4c89-b807-0f3aca78caa4",
   "metadata": {},
   "source": [
    "#| tip return a+b\n",
    "\n",
    "Return something"
   ]
  },
  {
   "cell_type": "code",
   "execution_count": null,
   "id": "4eb7b3a8",
   "metadata": {},
   "outputs": [],
   "source": [
    "#| hide\n",
    "import nbdev; nbdev.nbdev_export()"
   ]
  },
  {
   "cell_type": "code",
   "execution_count": null,
   "id": "b6b30d09-efa7-40b6-9dd1-6584ac95d370",
   "metadata": {},
   "outputs": [],
   "source": []
  }
 ],
 "metadata": {
  "kernelspec": {
   "display_name": "Python 3 (ipykernel)",
   "language": "python",
   "name": "python3"
  }
 },
 "nbformat": 4,
 "nbformat_minor": 5
}
