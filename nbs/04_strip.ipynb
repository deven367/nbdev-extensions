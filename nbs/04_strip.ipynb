{
 "cells": [
  {
   "cell_type": "code",
   "execution_count": null,
   "id": "55a389a9-9444-4947-8df9-45d51e7e325a",
   "metadata": {},
   "outputs": [],
   "source": [
    "#| default_exp strip"
   ]
  },
  {
   "cell_type": "markdown",
   "id": "e8ecadca-f4fb-433d-9009-5d7c608216dd",
   "metadata": {},
   "source": [
    "# Strip notebooks of all data\n",
    "> A short function to strip everything but code from a Jupyter Notebook"
   ]
  },
  {
   "cell_type": "code",
   "execution_count": null,
   "id": "56971ef9-8152-408e-a1bb-6795e17f4772",
   "metadata": {},
   "outputs": [],
   "source": [
    "#| export\n",
    "from nbdev.config import get_config\n",
    "from nbdev.processors import read_nb\n",
    "from nbdev.export import nb_export\n",
    "from nbdev.doclinks import nbglob\n",
    "from nbdev.sync import write_nb\n",
    "from fastcore.basics import AttrDict\n",
    "from fastcore.script import call_parse\n",
    "from fastcore.xtras import Path"
   ]
  },
  {
   "cell_type": "code",
   "execution_count": null,
   "id": "c50f12b7-6c5d-404d-a176-70953b05c38d",
   "metadata": {},
   "outputs": [],
   "source": [
    "#| hide\n",
    "from fastcore.test import test_eq"
   ]
  },
  {
   "cell_type": "code",
   "execution_count": null,
   "id": "a4c48337-cd9d-44c8-bb83-25334f249758",
   "metadata": {},
   "outputs": [],
   "source": [
    "#| hide\n",
    "from nbdev.processors import mk_cell"
   ]
  },
  {
   "cell_type": "code",
   "execution_count": null,
   "id": "5dd5c941-c166-4891-b912-1ca115134336",
   "metadata": {},
   "outputs": [],
   "source": [
    "#| export\n",
    "@call_parse\n",
    "def strip_nbs(\n",
    "    notebook_path:str,\n",
    "    output_folder:str\n",
    "):\n",
    "    \"Removes all non-code cells from `notebook_path` and saves it in `output_folder`\"\n",
    "    if not Path(output_folder).exists():\n",
    "        Path(output_folder).mkdir(parents=True, exist_ok=True)\n",
    "    for path in Path(notebook_path).ls(file_exts=\".ipynb\"):\n",
    "        nb = read_nb(path)\n",
    "        cells = []\n",
    "        for cell in nb[\"cells\"]:\n",
    "            if cell[\"cell_type\"] == \"code\":\n",
    "                cells.append(cell)\n",
    "        new_nb = AttrDict(\n",
    "            cells=cells,\n",
    "            metadata={},\n",
    "            nbformat=4,\n",
    "            nbformat_minor=5\n",
    "        )\n",
    "        write_nb(new_nb, Path(output_folder)/path.name)"
   ]
  },
  {
   "cell_type": "code",
   "execution_count": null,
   "id": "81406bb3-d906-423a-b68b-a60579df2478",
   "metadata": {},
   "outputs": [],
   "source": []
  }
 ],
 "metadata": {
  "kernelspec": {
   "display_name": "Python 3 (ipykernel)",
   "language": "python",
   "name": "python3"
  }
 },
 "nbformat": 4,
 "nbformat_minor": 5
}
